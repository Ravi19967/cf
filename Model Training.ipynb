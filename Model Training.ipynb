{
 "cells": [
  {
   "cell_type": "code",
   "execution_count": 10,
   "metadata": {},
   "outputs": [],
   "source": [
    "import tensorflow as tf\n",
    "from tensorflow import keras\n",
    "\n",
    "# Helper libraries\n",
    "import numpy as np\n",
    "import datetime"
   ]
  },
  {
   "cell_type": "code",
   "execution_count": 11,
   "metadata": {},
   "outputs": [
    {
     "name": "stdout",
     "output_type": "stream",
     "text": [
      "\n",
      "train_images.shape: (60000, 28, 28, 1), of float64\n",
      "test_images.shape: (10000, 28, 28, 1), of float64\n"
     ]
    }
   ],
   "source": [
    "# importing data\n",
    "fashion_mnist = keras.datasets.fashion_mnist\n",
    "(train_images, train_labels), (test_images, test_labels) = fashion_mnist.load_data()\n",
    "\n",
    "# scale the values to 0.0 to 1.0\n",
    "train_images = train_images / 255.0\n",
    "test_images = test_images / 255.0\n",
    "\n",
    "# reshape for feeding into the model\n",
    "train_images = train_images.reshape(train_images.shape[0], 28, 28, 1)\n",
    "test_images = test_images.reshape(test_images.shape[0], 28, 28, 1)\n",
    "\n",
    "class_names = ['T-shirt/top', 'Trouser', 'Pullover', 'Dress', 'Coat',\n",
    "               'Sandal', 'Shirt', 'Sneaker', 'Bag', 'Ankle boot']\n",
    "\n",
    "print('\\ntrain_images.shape: {}, of {}'.format(train_images.shape, train_images.dtype))\n",
    "print('test_images.shape: {}, of {}'.format(test_images.shape, test_images.dtype))"
   ]
  },
  {
   "cell_type": "markdown",
   "metadata": {},
   "source": [
    "### Model Utility Function"
   ]
  },
  {
   "cell_type": "code",
   "execution_count": 12,
   "metadata": {},
   "outputs": [],
   "source": [
    "def build_model(kernel_size: int, model_name: str) -> keras.Sequential:\n",
    "    \"\"\"\n",
    "    Function that compiles and returns model with varrious kernel sizes and names\n",
    "    \"\"\"\n",
    "    model = keras.Sequential([\n",
    "      keras.layers.Conv2D(input_shape=(28,28,1), filters=8, kernel_size=kernel_size, \n",
    "                      strides=2, activation='relu', name='Conv1'),\n",
    "      keras.layers.Flatten(),\n",
    "      keras.layers.Dense(10, name='Dense')\n",
    "    ])\n",
    "    model._name= model_name\n",
    "    model.summary()\n",
    "    \n",
    "    testing = False\n",
    "    \n",
    "    model.compile(optimizer='adam', \n",
    "                  loss=tf.keras.losses.SparseCategoricalCrossentropy(from_logits=True),\n",
    "                  metrics=[keras.metrics.SparseCategoricalAccuracy()])\n",
    "    return model"
   ]
  },
  {
   "cell_type": "code",
   "execution_count": 13,
   "metadata": {},
   "outputs": [
    {
     "name": "stdout",
     "output_type": "stream",
     "text": [
      "Model: \"model_one\"\n",
      "_________________________________________________________________\n",
      " Layer (type)                Output Shape              Param #   \n",
      "=================================================================\n",
      " Conv1 (Conv2D)              (None, 7, 7, 8)           1808      \n",
      "                                                                 \n",
      " flatten (Flatten)           (None, 392)               0         \n",
      "                                                                 \n",
      " Dense (Dense)               (None, 10)                3930      \n",
      "                                                                 \n",
      "=================================================================\n",
      "Total params: 5,738\n",
      "Trainable params: 5,738\n",
      "Non-trainable params: 0\n",
      "_________________________________________________________________\n"
     ]
    }
   ],
   "source": [
    "model_a = build_model(15, \"model_one\")"
   ]
  },
  {
   "cell_type": "code",
   "execution_count": 14,
   "metadata": {
    "scrolled": false
   },
   "outputs": [
    {
     "name": "stdout",
     "output_type": "stream",
     "text": [
      "Model: \"model_two\"\n",
      "_________________________________________________________________\n",
      " Layer (type)                Output Shape              Param #   \n",
      "=================================================================\n",
      " Conv1 (Conv2D)              (None, 13, 13, 8)         80        \n",
      "                                                                 \n",
      " flatten_1 (Flatten)         (None, 1352)              0         \n",
      "                                                                 \n",
      " Dense (Dense)               (None, 10)                13530     \n",
      "                                                                 \n",
      "=================================================================\n",
      "Total params: 13,610\n",
      "Trainable params: 13,610\n",
      "Non-trainable params: 0\n",
      "_________________________________________________________________\n"
     ]
    }
   ],
   "source": [
    "model_b = build_model(3, \"model_two\")"
   ]
  },
  {
   "cell_type": "code",
   "execution_count": 15,
   "metadata": {},
   "outputs": [
    {
     "name": "stdout",
     "output_type": "stream",
     "text": [
      "Epoch 1/20\n",
      "1875/1875 [==============================] - 8s 4ms/step - loss: 0.6029 - sparse_categorical_accuracy: 0.7869 - val_loss: 0.5255 - val_sparse_categorical_accuracy: 0.8147\n",
      "Epoch 2/20\n",
      "1875/1875 [==============================] - 7s 4ms/step - loss: 0.4499 - sparse_categorical_accuracy: 0.8419 - val_loss: 0.4792 - val_sparse_categorical_accuracy: 0.8360\n",
      "Epoch 3/20\n",
      "1875/1875 [==============================] - 6s 3ms/step - loss: 0.4140 - sparse_categorical_accuracy: 0.8540 - val_loss: 0.4271 - val_sparse_categorical_accuracy: 0.8495\n",
      "Epoch 4/20\n",
      "1875/1875 [==============================] - 7s 4ms/step - loss: 0.3927 - sparse_categorical_accuracy: 0.8616 - val_loss: 0.4216 - val_sparse_categorical_accuracy: 0.8534\n",
      "Epoch 5/20\n",
      "1875/1875 [==============================] - 6s 3ms/step - loss: 0.3774 - sparse_categorical_accuracy: 0.8652 - val_loss: 0.4019 - val_sparse_categorical_accuracy: 0.8591\n",
      "Epoch 6/20\n",
      "1875/1875 [==============================] - 6s 3ms/step - loss: 0.3650 - sparse_categorical_accuracy: 0.8698 - val_loss: 0.4053 - val_sparse_categorical_accuracy: 0.8600\n",
      "Epoch 7/20\n",
      "1875/1875 [==============================] - 8s 4ms/step - loss: 0.3547 - sparse_categorical_accuracy: 0.8732 - val_loss: 0.4018 - val_sparse_categorical_accuracy: 0.8579\n",
      "Epoch 8/20\n",
      "1875/1875 [==============================] - 7s 4ms/step - loss: 0.3468 - sparse_categorical_accuracy: 0.8760 - val_loss: 0.3903 - val_sparse_categorical_accuracy: 0.8629\n",
      "Epoch 9/20\n",
      "1875/1875 [==============================] - 7s 3ms/step - loss: 0.3413 - sparse_categorical_accuracy: 0.8777 - val_loss: 0.3950 - val_sparse_categorical_accuracy: 0.8603\n",
      "Epoch 10/20\n",
      "1875/1875 [==============================] - 6s 3ms/step - loss: 0.3352 - sparse_categorical_accuracy: 0.8795 - val_loss: 0.3915 - val_sparse_categorical_accuracy: 0.8623\n",
      "Epoch 11/20\n",
      "1875/1875 [==============================] - 7s 3ms/step - loss: 0.3295 - sparse_categorical_accuracy: 0.8809 - val_loss: 0.3878 - val_sparse_categorical_accuracy: 0.8651\n",
      "Epoch 12/20\n",
      "1875/1875 [==============================] - 7s 4ms/step - loss: 0.3258 - sparse_categorical_accuracy: 0.8825 - val_loss: 0.3940 - val_sparse_categorical_accuracy: 0.8621\n",
      "Epoch 13/20\n",
      "1875/1875 [==============================] - 6s 3ms/step - loss: 0.3224 - sparse_categorical_accuracy: 0.8839 - val_loss: 0.3869 - val_sparse_categorical_accuracy: 0.8620\n",
      "Epoch 14/20\n",
      "1875/1875 [==============================] - 6s 3ms/step - loss: 0.3195 - sparse_categorical_accuracy: 0.8846 - val_loss: 0.3894 - val_sparse_categorical_accuracy: 0.8657\n",
      "Epoch 15/20\n",
      "1875/1875 [==============================] - 9s 5ms/step - loss: 0.3154 - sparse_categorical_accuracy: 0.8865 - val_loss: 0.3815 - val_sparse_categorical_accuracy: 0.8657\n",
      "Epoch 16/20\n",
      "1875/1875 [==============================] - 7s 4ms/step - loss: 0.3124 - sparse_categorical_accuracy: 0.8864 - val_loss: 0.3762 - val_sparse_categorical_accuracy: 0.8670\n",
      "Epoch 17/20\n",
      "1875/1875 [==============================] - 6s 3ms/step - loss: 0.3108 - sparse_categorical_accuracy: 0.8877 - val_loss: 0.3893 - val_sparse_categorical_accuracy: 0.8666\n",
      "Epoch 18/20\n",
      "1875/1875 [==============================] - 7s 4ms/step - loss: 0.3060 - sparse_categorical_accuracy: 0.8901 - val_loss: 0.3911 - val_sparse_categorical_accuracy: 0.8627\n",
      "Epoch 19/20\n",
      "1875/1875 [==============================] - 7s 4ms/step - loss: 0.3050 - sparse_categorical_accuracy: 0.8901 - val_loss: 0.3929 - val_sparse_categorical_accuracy: 0.8640\n",
      "Epoch 20/20\n",
      "1875/1875 [==============================] - 7s 4ms/step - loss: 0.3030 - sparse_categorical_accuracy: 0.8916 - val_loss: 0.3854 - val_sparse_categorical_accuracy: 0.8678\n"
     ]
    },
    {
     "data": {
      "text/plain": [
       "<keras.callbacks.History at 0x7fbb800496a0>"
      ]
     },
     "execution_count": 15,
     "metadata": {},
     "output_type": "execute_result"
    }
   ],
   "source": [
    "# model training and logging metrics for tensorboard\n",
    "epochs = 20\n",
    "log_dir = \"logs/\"+str(model_a._name)+\"/\" + datetime.datetime.now().strftime(\"%Y%m%d-%H%M%S\")\n",
    "tensorboard_callback = tf.keras.callbacks.TensorBoard(log_dir=log_dir, histogram_freq=1)\n",
    "\n",
    "model_a.fit(train_images, \n",
    "          train_labels, \n",
    "          epochs = epochs,\n",
    "          validation_data=(test_images, test_labels),\n",
    "          callbacks=[tensorboard_callback])"
   ]
  },
  {
   "cell_type": "code",
   "execution_count": 16,
   "metadata": {},
   "outputs": [
    {
     "name": "stdout",
     "output_type": "stream",
     "text": [
      "Epoch 1/20\n",
      "1875/1875 [==============================] - 6s 3ms/step - loss: 0.5272 - sparse_categorical_accuracy: 0.8178 - val_loss: 0.4330 - val_sparse_categorical_accuracy: 0.8458\n",
      "Epoch 2/20\n",
      "1875/1875 [==============================] - 5s 3ms/step - loss: 0.3818 - sparse_categorical_accuracy: 0.8658 - val_loss: 0.4157 - val_sparse_categorical_accuracy: 0.8470\n",
      "Epoch 3/20\n",
      "1875/1875 [==============================] - 6s 3ms/step - loss: 0.3490 - sparse_categorical_accuracy: 0.8761 - val_loss: 0.3626 - val_sparse_categorical_accuracy: 0.8721\n",
      "Epoch 4/20\n",
      "1875/1875 [==============================] - 5s 3ms/step - loss: 0.3291 - sparse_categorical_accuracy: 0.8826 - val_loss: 0.3561 - val_sparse_categorical_accuracy: 0.8745\n",
      "Epoch 5/20\n",
      "1875/1875 [==============================] - 5s 3ms/step - loss: 0.3164 - sparse_categorical_accuracy: 0.8859 - val_loss: 0.3535 - val_sparse_categorical_accuracy: 0.8692\n",
      "Epoch 6/20\n",
      "1875/1875 [==============================] - 5s 3ms/step - loss: 0.3066 - sparse_categorical_accuracy: 0.8909 - val_loss: 0.3492 - val_sparse_categorical_accuracy: 0.8733\n",
      "Epoch 7/20\n",
      "1875/1875 [==============================] - 5s 3ms/step - loss: 0.2985 - sparse_categorical_accuracy: 0.8939 - val_loss: 0.3407 - val_sparse_categorical_accuracy: 0.8759\n",
      "Epoch 8/20\n",
      "1875/1875 [==============================] - 5s 3ms/step - loss: 0.2915 - sparse_categorical_accuracy: 0.8951 - val_loss: 0.3429 - val_sparse_categorical_accuracy: 0.8777\n",
      "Epoch 9/20\n",
      "1875/1875 [==============================] - 5s 3ms/step - loss: 0.2863 - sparse_categorical_accuracy: 0.8967 - val_loss: 0.3329 - val_sparse_categorical_accuracy: 0.8804\n",
      "Epoch 10/20\n",
      "1875/1875 [==============================] - 6s 3ms/step - loss: 0.2803 - sparse_categorical_accuracy: 0.8994 - val_loss: 0.3306 - val_sparse_categorical_accuracy: 0.8824\n",
      "Epoch 11/20\n",
      "1875/1875 [==============================] - 5s 3ms/step - loss: 0.2749 - sparse_categorical_accuracy: 0.9008 - val_loss: 0.3305 - val_sparse_categorical_accuracy: 0.8827\n",
      "Epoch 12/20\n",
      "1875/1875 [==============================] - 5s 3ms/step - loss: 0.2692 - sparse_categorical_accuracy: 0.9028 - val_loss: 0.3285 - val_sparse_categorical_accuracy: 0.8831\n",
      "Epoch 13/20\n",
      "1875/1875 [==============================] - 5s 3ms/step - loss: 0.2632 - sparse_categorical_accuracy: 0.9046 - val_loss: 0.3424 - val_sparse_categorical_accuracy: 0.8773\n",
      "Epoch 14/20\n",
      "1875/1875 [==============================] - 5s 3ms/step - loss: 0.2586 - sparse_categorical_accuracy: 0.9052 - val_loss: 0.3293 - val_sparse_categorical_accuracy: 0.8836\n",
      "Epoch 15/20\n",
      "1875/1875 [==============================] - 5s 2ms/step - loss: 0.2542 - sparse_categorical_accuracy: 0.9077 - val_loss: 0.3333 - val_sparse_categorical_accuracy: 0.8837\n",
      "Epoch 16/20\n",
      "1875/1875 [==============================] - 5s 2ms/step - loss: 0.2500 - sparse_categorical_accuracy: 0.9093 - val_loss: 0.3275 - val_sparse_categorical_accuracy: 0.8843\n",
      "Epoch 17/20\n",
      "1875/1875 [==============================] - 5s 2ms/step - loss: 0.2461 - sparse_categorical_accuracy: 0.9111 - val_loss: 0.3280 - val_sparse_categorical_accuracy: 0.8834\n",
      "Epoch 18/20\n",
      "1875/1875 [==============================] - 5s 3ms/step - loss: 0.2424 - sparse_categorical_accuracy: 0.9123 - val_loss: 0.3253 - val_sparse_categorical_accuracy: 0.8846\n",
      "Epoch 19/20\n",
      "1875/1875 [==============================] - 6s 3ms/step - loss: 0.2391 - sparse_categorical_accuracy: 0.9140 - val_loss: 0.3250 - val_sparse_categorical_accuracy: 0.8840\n",
      "Epoch 20/20\n",
      "1875/1875 [==============================] - 6s 3ms/step - loss: 0.2362 - sparse_categorical_accuracy: 0.9147 - val_loss: 0.3262 - val_sparse_categorical_accuracy: 0.8854\n"
     ]
    },
    {
     "data": {
      "text/plain": [
       "<keras.callbacks.History at 0x7fbb4c5a0c70>"
      ]
     },
     "execution_count": 16,
     "metadata": {},
     "output_type": "execute_result"
    }
   ],
   "source": [
    "# model training and logging metrics for tensorboard\n",
    "log_dir = \"logs/\"+str(model_b._name)+\"/\" + datetime.datetime.now().strftime(\"%Y%m%d-%H%M%S\")\n",
    "tensorboard_callback = tf.keras.callbacks.TensorBoard(log_dir=log_dir, histogram_freq=1)\n",
    "\n",
    "model_b.fit(train_images, \n",
    "          train_labels, \n",
    "          epochs = epochs,\n",
    "          validation_data=(test_images, test_labels),\n",
    "          callbacks=[tensorboard_callback])"
   ]
  },
  {
   "cell_type": "code",
   "execution_count": 17,
   "metadata": {},
   "outputs": [],
   "source": [
    "%load_ext tensorboard"
   ]
  },
  {
   "cell_type": "code",
   "execution_count": 18,
   "metadata": {},
   "outputs": [
    {
     "data": {
      "text/plain": [
       "Reusing TensorBoard on port 6006 (pid 780), started 1:28:55 ago. (Use '!kill 780' to kill it.)"
      ]
     },
     "metadata": {},
     "output_type": "display_data"
    },
    {
     "data": {
      "text/html": [
       "\n",
       "      <iframe id=\"tensorboard-frame-bd3bbbfe7d0a4588\" width=\"100%\" height=\"800\" frameborder=\"0\">\n",
       "      </iframe>\n",
       "      <script>\n",
       "        (function() {\n",
       "          const frame = document.getElementById(\"tensorboard-frame-bd3bbbfe7d0a4588\");\n",
       "          const url = new URL(\"/\", window.location);\n",
       "          const port = 6006;\n",
       "          if (port) {\n",
       "            url.port = port;\n",
       "          }\n",
       "          frame.src = url;\n",
       "        })();\n",
       "      </script>\n",
       "    "
      ],
      "text/plain": [
       "<IPython.core.display.HTML object>"
      ]
     },
     "metadata": {},
     "output_type": "display_data"
    }
   ],
   "source": [
    "%tensorboard --logdir logs/ --host 0.0.0.0"
   ]
  },
  {
   "cell_type": "code",
   "execution_count": 19,
   "metadata": {},
   "outputs": [
    {
     "name": "stderr",
     "output_type": "stream",
     "text": [
      "WARNING:absl:Function `_wrapped_model` contains input name(s) Conv1_input with unsupported characters which will be renamed to conv1_input in the SavedModel.\n"
     ]
    },
    {
     "name": "stdout",
     "output_type": "stream",
     "text": [
      "INFO:tensorflow:Assets written to: ./model_output/1/assets\n"
     ]
    },
    {
     "name": "stderr",
     "output_type": "stream",
     "text": [
      "INFO:tensorflow:Assets written to: ./model_output/1/assets\n"
     ]
    }
   ],
   "source": [
    "# saving the model to the docker volume\n",
    "tf.keras.models.save_model(\n",
    "    model_b,\n",
    "    './model_output/1',\n",
    "    overwrite=True,\n",
    "    include_optimizer=True,\n",
    "    save_format=None,\n",
    "    signatures=None,\n",
    "    options=None\n",
    ")"
   ]
  }
 ],
 "metadata": {
  "kernelspec": {
   "display_name": "Python 3",
   "language": "python",
   "name": "python3"
  },
  "language_info": {
   "codemirror_mode": {
    "name": "ipython",
    "version": 3
   },
   "file_extension": ".py",
   "mimetype": "text/x-python",
   "name": "python",
   "nbconvert_exporter": "python",
   "pygments_lexer": "ipython3",
   "version": "3.8.10"
  }
 },
 "nbformat": 4,
 "nbformat_minor": 2
}
